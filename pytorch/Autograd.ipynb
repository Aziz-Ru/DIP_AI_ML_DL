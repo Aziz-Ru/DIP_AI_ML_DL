{
 "cells": [
  {
   "cell_type": "code",
   "execution_count": 7,
   "id": "14041d73",
   "metadata": {},
   "outputs": [
    {
     "name": "stdout",
     "output_type": "stream",
     "text": [
      "tensor(0.2407)\n"
     ]
    }
   ],
   "source": [
    "import torch\n",
    "x=torch.randn(1,10)\n",
    "prev_h=torch.randn(1,20)\n",
    "w_h=torch.randn(20,20)\n",
    "w_x=torch.randn(20,10)\n",
    "i2h=torch.mm(w_x,x.t())\n",
    "h2h=torch.mm(w_h,prev_h.t())\n",
    "next_h=i2h+h2h\n",
    "next_h=next_h.tanh()\n",
    "loss=next_h.sum()\n",
    "print(loss)"
   ]
  },
  {
   "cell_type": "markdown",
   "id": "6e0c4472",
   "metadata": {},
   "source": [
    "Autograd is short for automatic differentiation, and it’s one of the core features that makes PyTorch so powerful and easy to use for building neural networks."
   ]
  }
 ],
 "metadata": {
  "kernelspec": {
   "display_name": ".venv",
   "language": "python",
   "name": "python3"
  },
  "language_info": {
   "codemirror_mode": {
    "name": "ipython",
    "version": 3
   },
   "file_extension": ".py",
   "mimetype": "text/x-python",
   "name": "python",
   "nbconvert_exporter": "python",
   "pygments_lexer": "ipython3",
   "version": "3.12.3"
  }
 },
 "nbformat": 4,
 "nbformat_minor": 5
}
