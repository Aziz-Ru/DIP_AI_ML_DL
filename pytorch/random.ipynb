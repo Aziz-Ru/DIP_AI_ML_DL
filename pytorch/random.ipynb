{
 "cells": [
  {
   "cell_type": "code",
   "execution_count": 1,
   "id": "8d717985",
   "metadata": {},
   "outputs": [],
   "source": [
    "import torch\n",
    "import random\n"
   ]
  },
  {
   "cell_type": "code",
   "execution_count": null,
   "id": "b07b115a",
   "metadata": {},
   "outputs": [
    {
     "name": "stdout",
     "output_type": "stream",
     "text": [
      "tensor([[0.1869, 0.9613, 0.6834, 0.8988],\n",
      "        [0.0505, 0.5555, 0.7861, 0.0566],\n",
      "        [0.7842, 0.1480, 0.0388, 0.1037]])\n",
      "tensor([[0.1869, 0.9613, 0.6834, 0.8988],\n",
      "        [0.0505, 0.5555, 0.7861, 0.0566],\n",
      "        [0.7842, 0.1480, 0.0388, 0.1037]])\n"
     ]
    },
    {
     "data": {
      "text/plain": [
       "tensor([[True, True, True, True],\n",
       "        [True, True, True, True],\n",
       "        [True, True, True, True]])"
      ]
     },
     "execution_count": 6,
     "metadata": {},
     "output_type": "execute_result"
    }
   ],
   "source": [
    "RANDOM_SEED = 45\n",
    "torch.manual_seed(seed=RANDOM_SEED)\n",
    "a=torch.rand(3,4)\n",
    "\n",
    "# Have to reset the seed every time a new rand() is called \n",
    "torch.manual_seed(seed=RANDOM_SEED)\n",
    "b=torch.rand(3,4)\n",
    "print(a)\n",
    "print(b)\n",
    "a==b"
   ]
  },
  {
   "cell_type": "code",
   "execution_count": 8,
   "id": "3897a480",
   "metadata": {},
   "outputs": [
    {
     "data": {
      "text/plain": [
       "False"
      ]
     },
     "execution_count": 8,
     "metadata": {},
     "output_type": "execute_result"
    }
   ],
   "source": [
    "torch.cuda.is_available()"
   ]
  }
 ],
 "metadata": {
  "kernelspec": {
   "display_name": "opencv_learn (3.12.3)",
   "language": "python",
   "name": "python3"
  },
  "language_info": {
   "codemirror_mode": {
    "name": "ipython",
    "version": 3
   },
   "file_extension": ".py",
   "mimetype": "text/x-python",
   "name": "python",
   "nbconvert_exporter": "python",
   "pygments_lexer": "ipython3",
   "version": "3.12.3"
  }
 },
 "nbformat": 4,
 "nbformat_minor": 5
}
