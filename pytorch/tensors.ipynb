{
 "cells": [
  {
   "cell_type": "code",
   "execution_count": 5,
   "id": "b1523756",
   "metadata": {},
   "outputs": [
    {
     "name": "stdout",
     "output_type": "stream",
     "text": [
      "tensor([[0., 0., 0., 0.],\n",
      "        [0., 0., 0., 0.],\n",
      "        [0., 0., 0., 0.]])\n",
      "torch.float32\n",
      "tensor([[0.1415, 0.4600, 0.6977],\n",
      "        [0.8845, 0.6019, 0.5673]])\n"
     ]
    }
   ],
   "source": [
    "import torch\n",
    "\n",
    "x=torch.zeros(3,4)\n",
    "rand=torch.rand(2,3)\n",
    "# 3*4 matrix\n",
    "print(x)\n",
    "print(x.dtype)\n",
    "print(rand)"
   ]
  },
  {
   "cell_type": "code",
   "execution_count": 10,
   "id": "71e5a31d",
   "metadata": {},
   "outputs": [
    {
     "name": "stdout",
     "output_type": "stream",
     "text": [
      "tensor([[6., 6., 6., 6.],\n",
      "        [6., 6., 6., 6.],\n",
      "        [6., 6., 6., 6.]])\n"
     ]
    }
   ],
   "source": [
    "ones=torch.ones(3,4)\n",
    "twos=ones*2\n",
    "threes=ones*3\n",
    "summation=ones+twos+threes\n",
    "print(summation)\n"
   ]
  },
  {
   "cell_type": "code",
   "execution_count": 15,
   "id": "60686c10",
   "metadata": {},
   "outputs": [
    {
     "name": "stdout",
     "output_type": "stream",
     "text": [
      "A random Matrix:\n",
      "tensor([[ 0.7359, -0.0574, -0.0867],\n",
      "        [ 0.0874, -0.1143,  0.6338],\n",
      "        [ 0.6865,  0.5546,  0.1600]])\n",
      "\n",
      " Absolute value r\n",
      "tensor([[0.7359, 0.0574, 0.0867],\n",
      "        [0.0874, 0.1143, 0.6338],\n",
      "        [0.6865, 0.5546, 0.1600]])\n",
      "\n",
      " Determninant of r\n",
      "tensor(-0.3073)\n",
      "\n",
      " SIngular value decomposition r\n",
      "torch.return_types.svd(\n",
      "U=tensor([[-0.5976, -0.2348,  0.7666],\n",
      "        [-0.1175,  0.9715,  0.2060],\n",
      "        [-0.7931,  0.0330, -0.6082]]),\n",
      "S=tensor([1.0794, 0.6495, 0.4383]),\n",
      "V=tensor([[-0.9213, -0.1004,  0.3756],\n",
      "        [-0.3633, -0.1220, -0.9237],\n",
      "        [-0.1386,  0.9874, -0.0759]]))\n",
      "\n",
      " Avarage and standart deviation of value r\n",
      "(tensor(0.3585), tensor(0.2889))\n"
     ]
    }
   ],
   "source": [
    "r=torch.rand(3,3)-0.5**2\n",
    "print(\"A random Matrix:\")\n",
    "print(r)\n",
    "\n",
    "print(\"\\n Absolute value r\")\n",
    "print(torch.abs(r))\n",
    "\n",
    "print(\"\\n Determninant of r\")\n",
    "print(torch.det(r))\n",
    "\n",
    "print(\"\\n SIngular value decomposition r\")\n",
    "print(torch.svd(r))\n",
    "\n",
    "print(\"\\n Avarage and standart deviation of value r\")\n",
    "print(torch.std_mean(r))\n"
   ]
  }
 ],
 "metadata": {
  "kernelspec": {
   "display_name": ".venv",
   "language": "python",
   "name": "python3"
  },
  "language_info": {
   "codemirror_mode": {
    "name": "ipython",
    "version": 3
   },
   "file_extension": ".py",
   "mimetype": "text/x-python",
   "name": "python",
   "nbconvert_exporter": "python",
   "pygments_lexer": "ipython3",
   "version": "3.12.3"
  }
 },
 "nbformat": 4,
 "nbformat_minor": 5
}
