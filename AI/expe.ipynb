{
 "cells": [
  {
   "cell_type": "code",
   "execution_count": 1,
   "id": "efd66491",
   "metadata": {},
   "outputs": [],
   "source": [
    "import os\n",
    "experiment_no = 0"
   ]
  },
  {
   "cell_type": "code",
   "execution_count": 7,
   "id": "db6cf25f",
   "metadata": {},
   "outputs": [
    {
     "name": "stdout",
     "output_type": "stream",
     "text": [
      "Created directory: /home/silicon/opencv_learn/AI/experiment_6\n",
      "Experiment number: 6\n"
     ]
    }
   ],
   "source": [
    "experiment_no+=1\n",
    "try:\n",
    "  cwd = os.getcwd()\n",
    "  new_dir = os.path.join(cwd, f'experiment_{experiment_no}')\n",
    "  if not os.path.exists(new_dir):\n",
    "      os.makedirs(new_dir)\n",
    "      print(f\"Created directory: {new_dir}\")\n",
    "except Exception as e:\n",
    "  print(f\"Error creating directory: {e}\")\n",
    "  experiment_no -= 1  # revert increment if directory creation fails\n",
    "\n",
    "print(f\"Experiment number: {experiment_no}\")"
   ]
  }
 ],
 "metadata": {
  "kernelspec": {
   "display_name": "opencv_learn (3.12.3)",
   "language": "python",
   "name": "python3"
  },
  "language_info": {
   "codemirror_mode": {
    "name": "ipython",
    "version": 3
   },
   "file_extension": ".py",
   "mimetype": "text/x-python",
   "name": "python",
   "nbconvert_exporter": "python",
   "pygments_lexer": "ipython3",
   "version": "3.12.3"
  }
 },
 "nbformat": 4,
 "nbformat_minor": 5
}
