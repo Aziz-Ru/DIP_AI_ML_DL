{
 "cells": [
  {
   "cell_type": "code",
   "execution_count": 30,
   "id": "8336c4e4",
   "metadata": {},
   "outputs": [],
   "source": [
    "from tensorflow.keras.layers import Input,Dense,Flatten\n",
    "from tensorflow.keras.models import Model\n",
    "import numpy as np\n",
    "inputs=Input((1,))\n",
    "# flatten_layer=Flatten()(inputs)\n",
    "hidden_layer1=Dense(2,activation='relu',name='hidden_layer1')(inputs)\n",
    "hidden_layer2=Dense(4,activation='relu',name='hidden_layer2')(hidden_layer1)\n",
    "hidden_layer3=Dense(8,activation='relu',name='hidden_layer3')(hidden_layer2)\n",
    "hidden_layer4=Dense(16,activation='relu',name='hidden_layer4')(hidden_layer3)\n",
    "hidden_layer5=Dense(8,activation='relu',name='hidden_layer5')(hidden_layer4)\n",
    "hidden_layer6=Dense(4,activation='relu',name='hidden_layer6')(hidden_layer5)\n",
    "hidden_layer7=Dense(2,activation='relu',name='hidden_layer7')(hidden_layer6)\n",
    "\n",
    "outputs=Dense(1,name='output')(hidden_layer7)\n",
    "\n",
    "model=Model(inputs,outputs)\n",
    "\n",
    "# model.summary(show_trainable=True)\n"
   ]
  },
  {
   "cell_type": "code",
   "execution_count": 31,
   "id": "12534ba6",
   "metadata": {},
   "outputs": [],
   "source": [
    "model.compile(optimizer='adam', loss='mse', metrics=['mae'])"
   ]
  },
  {
   "cell_type": "code",
   "execution_count": 35,
   "id": "f329847a",
   "metadata": {},
   "outputs": [
    {
     "name": "stdout",
     "output_type": "stream",
     "text": [
      "Epoch 1/5\n",
      "\u001b[1m2188/2188\u001b[0m \u001b[32m━━━━━━━━━━━━━━━━━━━━\u001b[0m\u001b[37m\u001b[0m \u001b[1m8s\u001b[0m 3ms/step - loss: 201791136333824.0000 - mae: 8503355.0000 - val_loss: 203820390940672.0000 - val_mae: 8525659.0000\n",
      "Epoch 2/5\n",
      "\u001b[1m2188/2188\u001b[0m \u001b[32m━━━━━━━━━━━━━━━━━━━━\u001b[0m\u001b[37m\u001b[0m \u001b[1m7s\u001b[0m 3ms/step - loss: 201035641520128.0000 - mae: 8481637.0000 - val_loss: 203820390940672.0000 - val_mae: 8525656.0000\n",
      "Epoch 3/5\n",
      "\u001b[1m2188/2188\u001b[0m \u001b[32m━━━━━━━━━━━━━━━━━━━━\u001b[0m\u001b[37m\u001b[0m \u001b[1m7s\u001b[0m 3ms/step - loss: 201483123425280.0000 - mae: 8513572.0000 - val_loss: 203820323831808.0000 - val_mae: 8525651.0000\n",
      "Epoch 4/5\n",
      "\u001b[1m2188/2188\u001b[0m \u001b[32m━━━━━━━━━━━━━━━━━━━━\u001b[0m\u001b[37m\u001b[0m \u001b[1m8s\u001b[0m 3ms/step - loss: 199879003471872.0000 - mae: 8459155.0000 - val_loss: 203820323831808.0000 - val_mae: 8525650.0000\n",
      "Epoch 5/5\n",
      "\u001b[1m2188/2188\u001b[0m \u001b[32m━━━━━━━━━━━━━━━━━━━━\u001b[0m\u001b[37m\u001b[0m \u001b[1m7s\u001b[0m 3ms/step - loss: 199212947996672.0000 - mae: 8448560.0000 - val_loss: 203820290277376.0000 - val_mae: 8525647.0000\n"
     ]
    },
    {
     "data": {
      "text/plain": [
       "<keras.src.callbacks.history.History at 0x7db54b756c00>"
      ]
     },
     "execution_count": 35,
     "metadata": {},
     "output_type": "execute_result"
    }
   ],
   "source": [
    "def my_polinomial(x):\n",
    "  y= 7*x**4+5*x**3+2*x**2-7*x+10\n",
    "  return y\n",
    "\n",
    "n=100000\n",
    "x=np.random.randint(0,50,n)\n",
    "y=my_polinomial(x)\n",
    "\n",
    "\n",
    "indices = np.arange(n)\n",
    "np.random.shuffle(indices)\n",
    "x = x[indices]\n",
    "y = y[indices]\n",
    "\n",
    "train_size = int(0.7 * n)  \n",
    "val_size   = int(0.1 * n)   \n",
    "test_size  = n - train_size - val_size  \n",
    "\n",
    "train_x, train_y = x[:train_size], y[:train_size]\n",
    "val_x, val_y     = x[train_size:train_size+val_size], y[train_size:train_size+val_size]\n",
    "test_x, test_y   = x[train_size+val_size:], y[train_size+val_size:]\n",
    "\n",
    "model.fit(train_x,train_y,epochs=5,validation_data=(val_x,val_y))"
   ]
  },
  {
   "cell_type": "code",
   "execution_count": 33,
   "id": "de629f90",
   "metadata": {},
   "outputs": [
    {
     "name": "stdout",
     "output_type": "stream",
     "text": [
      "\u001b[1m625/625\u001b[0m \u001b[32m━━━━━━━━━━━━━━━━━━━━\u001b[0m\u001b[37m\u001b[0m \u001b[1m2s\u001b[0m 2ms/step - loss: 202817885175808.0000 - mae: 8546290.0000\n",
      "Test MAE: 8524318.00\n"
     ]
    }
   ],
   "source": [
    "loss, mae = model.evaluate(test_x, test_y)\n",
    "print(f\"Test MAE: {mae:.2f}\")"
   ]
  }
 ],
 "metadata": {
  "kernelspec": {
   "display_name": ".venv",
   "language": "python",
   "name": "python3"
  },
  "language_info": {
   "codemirror_mode": {
    "name": "ipython",
    "version": 3
   },
   "file_extension": ".py",
   "mimetype": "text/x-python",
   "name": "python",
   "nbconvert_exporter": "python",
   "pygments_lexer": "ipython3",
   "version": "3.12.3"
  }
 },
 "nbformat": 4,
 "nbformat_minor": 5
}
